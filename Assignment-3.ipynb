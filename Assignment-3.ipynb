{
 "cells": [
  {
   "cell_type": "code",
   "execution_count": null,
   "id": "f70d27a2-9712-4935-8ed7-1a1371260856",
   "metadata": {},
   "outputs": [],
   "source": [
    "# Module 4: Functions & Modules in Python \n",
    "# Task 1: Calculate Factorial Using a Function \n",
    "\n",
    "# Problem Statement: Write a Python program that:\n",
    "# 1.   Defines a function named factorial that takes a number as an argument and calculates its factorial using a loop or recursion.\n",
    "# 2.   Returns the calculated factorial.\n",
    "# 3.   Calls the function with a sample number and prints the output."
   ]
  },
  {
   "cell_type": "code",
   "execution_count": 26,
   "id": "e5874652-a92b-4c0f-b7f7-53e0fdb99b49",
   "metadata": {},
   "outputs": [
    {
     "name": "stdout",
     "output_type": "stream",
     "text": [
      "5040\n"
     ]
    }
   ],
   "source": [
    "def fact(num):\n",
    "    if num <= 1:\n",
    "        return 1\n",
    "    else:\n",
    "        return num * (fact(num-1))\n",
    "\n",
    "result = fact(7)\n",
    "print(result)"
   ]
  },
  {
   "cell_type": "code",
   "execution_count": null,
   "id": "0b5f7e8a-c770-4db2-8165-54b739b8ec4d",
   "metadata": {},
   "outputs": [],
   "source": [
    "# Task 2: Using the Math Module for Calculations\n",
    " \n",
    "# Problem Statement: Write a Python program that:\n",
    "# 1.   Asks the user for a number as input.\n",
    "# 2.   Uses the math module to calculate the:\n",
    "# o   Square root of the number\n",
    "# o   Natural logarithm (log base e) of the number\n",
    "# o   Sine of the number (in radians)\n",
    "# 3.   Displays the calculated results."
   ]
  },
  {
   "cell_type": "code",
   "execution_count": 24,
   "id": "ab70dd0b-3b2c-4bfb-8ab7-373a6fe15d99",
   "metadata": {},
   "outputs": [
    {
     "name": "stdin",
     "output_type": "stream",
     "text": [
      "Enter your number:  5\n"
     ]
    },
    {
     "name": "stdout",
     "output_type": "stream",
     "text": [
      "Square root of 5 is\t:  2.23606797749979\n",
      "Log of 5 is\t\t: 1.6094379124341003\n",
      "Sine of 5 is\t\t: -0.9589242746631385\n"
     ]
    }
   ],
   "source": [
    "import math as mt\n",
    "\n",
    "num = int(input(\"Enter your number: \"))\n",
    "squart = mt.sqrt(num)\n",
    "logr = mt.log(num)\n",
    "sinr = mt.sin(num)\n",
    "\n",
    "print(\"Square root of\", num, \"is\\t: \", squart)\n",
    "print(\"Log of\", num, \"is\\t\\t:\", logr)\n",
    "print(\"Sine of\", num, \"is\\t\\t:\", sinr)"
   ]
  },
  {
   "cell_type": "code",
   "execution_count": null,
   "id": "68231f1b-9278-4794-abec-cfb857e9baf2",
   "metadata": {},
   "outputs": [],
   "source": []
  }
 ],
 "metadata": {
  "kernelspec": {
   "display_name": "Python 3 (ipykernel)",
   "language": "python",
   "name": "python3"
  },
  "language_info": {
   "codemirror_mode": {
    "name": "ipython",
    "version": 3
   },
   "file_extension": ".py",
   "mimetype": "text/x-python",
   "name": "python",
   "nbconvert_exporter": "python",
   "pygments_lexer": "ipython3",
   "version": "3.13.1"
  }
 },
 "nbformat": 4,
 "nbformat_minor": 5
}
