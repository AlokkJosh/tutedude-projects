{
 "cells": [
  {
   "cell_type": "code",
   "execution_count": null,
   "id": "8bacf620-013e-4d2b-b401-5c162da02236",
   "metadata": {},
   "outputs": [],
   "source": [
    "# Task 1: Perform Basic Mathematical Operations\n",
    "# Problem Statement: Write a Python program that does the following:\n",
    "# 1.  Takes two numbers as input from the user.\n",
    "# 2.  Performs the basic mathematical operations on these two numbers:\n",
    "# o\tAddition\n",
    "# o\tSubtraction\n",
    "# o\tMultiplication\n",
    "# o\tDivision\n",
    "# 3.  Displays the results of each operation on the screen."
   ]
  },
  {
   "cell_type": "code",
   "execution_count": 6,
   "id": "2f04422f-e69b-44d8-9b40-d3d66a16ce03",
   "metadata": {},
   "outputs": [
    {
     "name": "stdin",
     "output_type": "stream",
     "text": [
      "Enter first number:  14\n",
      "Enter second number:  8\n"
     ]
    },
    {
     "name": "stdout",
     "output_type": "stream",
     "text": [
      "Addition of numbers:  22\n",
      "Subtraction of numbers:  6\n",
      "Mulitplication of numbers:  112\n",
      "Division of numbers:  1.75\n"
     ]
    }
   ],
   "source": [
    "num1 = int(input(\"Enter first number: \"))\n",
    "num2 = int(input(\"Enter second number: \"))\n",
    "print(\"Addition of numbers: \", num1 + num2)\n",
    "print(\"Subtraction of numbers: \", num1 - num2)\n",
    "print(\"Mulitplication of numbers: \", num1 * num2)\n",
    "print(\"Division of numbers: \", num1 / num2)"
   ]
  },
  {
   "cell_type": "code",
   "execution_count": null,
   "id": "2f715be9-4751-4580-b2ee-5f637b9af040",
   "metadata": {},
   "outputs": [],
   "source": [
    "# Task 2: Create a Personalized Greeting\n",
    "# Problem Statement: Write a Python program that:\n",
    "# 1.  Takes a user's first name and last name as input.\n",
    "# 2.  Concatenates the first name and last name into a full name.\n",
    "# 3.  Prints a personalized greeting message using the full name."
   ]
  },
  {
   "cell_type": "code",
   "execution_count": 16,
   "id": "1c2a0227-7945-4935-9304-93cb8c98bf14",
   "metadata": {},
   "outputs": [
    {
     "name": "stdin",
     "output_type": "stream",
     "text": [
      "Enter your first name:  Mohit\n",
      "Enter your second name:  Sharma\n"
     ]
    },
    {
     "name": "stdout",
     "output_type": "stream",
     "text": [
      "Hello,Mohit Sharma! Welcome to python program\n"
     ]
    }
   ],
   "source": [
    "first_name = input(\"Enter your first name: \")\n",
    "second_name = input(\"Enter your second name: \")\n",
    "print(\"Hello,\" + first_name + \" \" + second_name + \"! Welcome to python program\")"
   ]
  },
  {
   "cell_type": "code",
   "execution_count": null,
   "id": "77394b5d-912c-466f-a326-e27e8280d85b",
   "metadata": {},
   "outputs": [],
   "source": []
  }
 ],
 "metadata": {
  "kernelspec": {
   "display_name": "Python 3 (ipykernel)",
   "language": "python",
   "name": "python3"
  },
  "language_info": {
   "codemirror_mode": {
    "name": "ipython",
    "version": 3
   },
   "file_extension": ".py",
   "mimetype": "text/x-python",
   "name": "python",
   "nbconvert_exporter": "python",
   "pygments_lexer": "ipython3",
   "version": "3.13.1"
  }
 },
 "nbformat": 4,
 "nbformat_minor": 5
}
