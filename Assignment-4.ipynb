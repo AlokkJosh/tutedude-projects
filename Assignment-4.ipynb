{
 "cells": [
  {
   "cell_type": "markdown",
   "id": "702f718c-9606-419d-ae50-6fef42d9f597",
   "metadata": {},
   "source": [
    "# Task 1: Read a File and Handle Errors"
   ]
  },
  {
   "cell_type": "code",
   "execution_count": null,
   "id": "0a7c59dd-60e9-40c7-b4f2-f34db14ad28e",
   "metadata": {},
   "outputs": [],
   "source": [
    "# Problem Statement:  Write a Python program that:\n",
    "# 1.   Opens and reads a text file named sample.txt.\n",
    "# 2.   Prints its content line by line.\n",
    "# 3.   Handles errors gracefully if the file does not exist."
   ]
  },
  {
   "cell_type": "code",
   "execution_count": 25,
   "id": "3a4ac747-ba9b-452d-9c44-e9813bf1aa60",
   "metadata": {},
   "outputs": [
    {
     "name": "stdout",
     "output_type": "stream",
     "text": [
      "Reding the file content by lines\n",
      "Line 1 : Hello All\n",
      "Line 2 : We are now reading this file\n",
      "Line 3 : There are 3 lines in the file\n"
     ]
    }
   ],
   "source": [
    "# first do it with when file is available\n",
    "\n",
    "try:\n",
    "    samplefile = open('sample.txt', 'r+')\n",
    "    readfile = samplefile.readlines()\n",
    "    print(\"Reding the file content by lines\")\n",
    "    for i, line in enumerate(readfile, start=1):\n",
    "        print(\"Line\",i,\":\", line.strip())\n",
    "except FileNotFoundError:\n",
    "    print(\"file does not exist\")\n"
   ]
  },
  {
   "cell_type": "code",
   "execution_count": 24,
   "id": "178db8a0-35ee-42f2-85ee-7b518a6027da",
   "metadata": {},
   "outputs": [
    {
     "name": "stdout",
     "output_type": "stream",
     "text": [
      "file does not exist\n"
     ]
    }
   ],
   "source": [
    "# now, lets do it with when file is not available\n",
    "\n",
    "try:\n",
    "    samplefile = open('samplefile.txt', 'r')\n",
    "    readfile = samplefile.readlines()\n",
    "    print(\"Reding the file content by lines\")\n",
    "    for i, line in enumerate(readfile, start=1):\n",
    "        print(\"Line\",i,\":\", line.strip())\n",
    "except FileNotFoundError:\n",
    "    print(\"file does not exist\")\n"
   ]
  },
  {
   "cell_type": "markdown",
   "id": "6aedf1bd-f198-4862-bb74-705bf3d8b561",
   "metadata": {},
   "source": [
    "# Task 2 "
   ]
  },
  {
   "cell_type": "code",
   "execution_count": null,
   "id": "afc56673-c601-4353-985a-1a729f3956b0",
   "metadata": {},
   "outputs": [],
   "source": [
    "# Problem Statement: Write a Python program that:\n",
    "# 1.   Takes user input and writes it to a file named output.txt.\n",
    "# 2.   Appends additional data to the same file.\n",
    "# 3.   Reads and displays the final content of the file."
   ]
  },
  {
   "cell_type": "code",
   "execution_count": 4,
   "id": "ffd1dd25-3548-48a8-ad38-092f0e2d8483",
   "metadata": {},
   "outputs": [
    {
     "name": "stdin",
     "output_type": "stream",
     "text": [
      "Write something to output.txt.\n",
      " Hello, this is first user input.\n"
     ]
    },
    {
     "name": "stdout",
     "output_type": "stream",
     "text": [
      "User input successfully written to the file.\n",
      "\n"
     ]
    },
    {
     "name": "stdin",
     "output_type": "stream",
     "text": [
      "Write something more to output.txt. \n",
      " Now, this is additional user input.\n"
     ]
    },
    {
     "name": "stdout",
     "output_type": "stream",
     "text": [
      "Additional input has been written to output.txt.\n",
      "\n",
      "Final output from output.txt: \n",
      "Hello, this is first user input.\n",
      "Now, this is additional user input.\n",
      "\n"
     ]
    }
   ],
   "source": [
    "user_input = input(\"Write something to output.txt.\\n\") # first user input\n",
    "\n",
    "with open('output.txt', 'w') as file:\n",
    "    file.write(user_input + \"\\n\") # writing the use input to the file\n",
    "    \n",
    "print(\"User input successfully written to the file.\\n\")\n",
    "\n",
    "additional_input = input(\"Write something more to output.txt. \\n\") # taking additional input to append\n",
    "\n",
    "with open('output.txt', 'a') as file:\n",
    "    file.write(additional_input + \"\\n\") # appeding the file\n",
    "\n",
    "print(\"Additional input has been written to output.txt.\\n\")\n",
    "\n",
    "print('Final output from output.txt: ')\n",
    "\n",
    "with open('output.txt', 'r') as file:\n",
    "    final_output = file.read() # reading the file with final content\n",
    "    print(final_output)"
   ]
  },
  {
   "cell_type": "code",
   "execution_count": null,
   "id": "cd58091a-7927-4235-923e-19a2dc3bd614",
   "metadata": {},
   "outputs": [],
   "source": []
  }
 ],
 "metadata": {
  "kernelspec": {
   "display_name": "Python 3 (ipykernel)",
   "language": "python",
   "name": "python3"
  },
  "language_info": {
   "codemirror_mode": {
    "name": "ipython",
    "version": 3
   },
   "file_extension": ".py",
   "mimetype": "text/x-python",
   "name": "python",
   "nbconvert_exporter": "python",
   "pygments_lexer": "ipython3",
   "version": "3.13.1"
  },
  "widgets": {
   "application/vnd.jupyter.widget-state+json": {
    "state": {},
    "version_major": 2,
    "version_minor": 0
   }
  }
 },
 "nbformat": 4,
 "nbformat_minor": 5
}
