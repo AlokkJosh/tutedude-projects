{
 "cells": [
  {
   "cell_type": "code",
   "execution_count": null,
   "id": "c7342605-1e3a-4774-864f-6835270f6413",
   "metadata": {},
   "outputs": [],
   "source": [
    "# ASSIGNMENT 2:\n",
    "# Module 3: Control Structures in Python\n",
    " \n",
    "# Task 1: Check if a Number is Even or Odd\n",
    "# Problem Statement:  Write a Python program that:\n",
    "# 1. \tTakes an integer input from the user.\n",
    "# 2. \tChecks whether the number is even or odd using an if-else statement.\n",
    "# 3. \tDisplays the result accordingly."
   ]
  },
  {
   "cell_type": "code",
   "execution_count": 7,
   "id": "5f0de965-01f2-4633-9cb9-eb780546fea4",
   "metadata": {},
   "outputs": [
    {
     "name": "stdin",
     "output_type": "stream",
     "text": [
      "Enter a number to check:  10\n"
     ]
    },
    {
     "name": "stdout",
     "output_type": "stream",
     "text": [
      "10 is an Even Number\n"
     ]
    }
   ],
   "source": [
    "num = int(input(\"Enter a number to check: \"))\n",
    "if num % 2 == 0:\n",
    "    print(f\"{num} is an Even Number\")\n",
    "else:\n",
    "    print(f\"{num} is an Odd Number\")             "
   ]
  },
  {
   "cell_type": "code",
   "execution_count": null,
   "id": "ea42aa86-2804-41b7-9853-6386c9c566b7",
   "metadata": {},
   "outputs": [],
   "source": [
    "# Task 2: Sum of Integers from 1 to 50 Using a Loop\n",
    " \n",
    "# Problem Statement: Write a Python program that:\n",
    "# 1.   Uses a for loop to iterate over numbers from 1 to 50.\n",
    "# 2.   Calculates the sum of all integers in this range.\n",
    "# 3.   Displays the final sum."
   ]
  },
  {
   "cell_type": "code",
   "execution_count": 11,
   "id": "615b8346-e577-40fc-894c-cc075312a916",
   "metadata": {},
   "outputs": [
    {
     "name": "stdout",
     "output_type": "stream",
     "text": [
      "The Sum of All the Numbers is:  1275\n"
     ]
    }
   ],
   "source": [
    "sum = 0\n",
    "for i in range(1,51):\n",
    "    sum = sum + i\n",
    "print(\"The Sum of All the Numbers is: \", sum)"
   ]
  },
  {
   "cell_type": "code",
   "execution_count": null,
   "id": "7f7b1aa9-942d-47ed-b448-d5f00e6b30ea",
   "metadata": {},
   "outputs": [],
   "source": []
  }
 ],
 "metadata": {
  "kernelspec": {
   "display_name": "Python 3 (ipykernel)",
   "language": "python",
   "name": "python3"
  },
  "language_info": {
   "codemirror_mode": {
    "name": "ipython",
    "version": 3
   },
   "file_extension": ".py",
   "mimetype": "text/x-python",
   "name": "python",
   "nbconvert_exporter": "python",
   "pygments_lexer": "ipython3",
   "version": "3.13.1"
  }
 },
 "nbformat": 4,
 "nbformat_minor": 5
}
